{
 "cells": [
  {
   "cell_type": "code",
   "execution_count": 30,
   "id": "d93870ce",
   "metadata": {},
   "outputs": [],
   "source": [
    "import pandas as pd\n",
    "import numpy as np\n",
    "from random import seed\n",
    "from random import randint"
   ]
  },
  {
   "cell_type": "code",
   "execution_count": 46,
   "id": "7c292cce",
   "metadata": {},
   "outputs": [],
   "source": [
    "# read a table with all reviewed human proteins from uniprot\n",
    "all_proteins = pd.read_excel('uniprot_human_reviewed.xlsx')"
   ]
  },
  {
   "cell_type": "code",
   "execution_count": 44,
   "id": "b2e9e4fa",
   "metadata": {},
   "outputs": [],
   "source": [
    "# create an array for random indexes\n",
    "array_index = np.array([], dtype=int)\n",
    "# seed random number generator\n",
    "seed(1)\n",
    "# generate 400 integer indexes for this table\n",
    "for i in range(400):\n",
    "    value = randint(0, len(all_proteins))\n",
    "    array_index = np.append(array_index, value)\n",
    "    "
   ]
  },
  {
   "cell_type": "code",
   "execution_count": 50,
   "id": "423ad6c7",
   "metadata": {},
   "outputs": [
    {
     "data": {
      "text/html": [
       "<div>\n",
       "<style scoped>\n",
       "    .dataframe tbody tr th:only-of-type {\n",
       "        vertical-align: middle;\n",
       "    }\n",
       "\n",
       "    .dataframe tbody tr th {\n",
       "        vertical-align: top;\n",
       "    }\n",
       "\n",
       "    .dataframe thead th {\n",
       "        text-align: right;\n",
       "    }\n",
       "</style>\n",
       "<table border=\"1\" class=\"dataframe\">\n",
       "  <thead>\n",
       "    <tr style=\"text-align: right;\">\n",
       "      <th></th>\n",
       "      <th>Entry</th>\n",
       "      <th>Reviewed</th>\n",
       "      <th>Entry Name</th>\n",
       "      <th>Protein names</th>\n",
       "      <th>Gene Names</th>\n",
       "      <th>Organism</th>\n",
       "      <th>Length</th>\n",
       "    </tr>\n",
       "  </thead>\n",
       "  <tbody>\n",
       "    <tr>\n",
       "      <th>4402</th>\n",
       "      <td>P50748</td>\n",
       "      <td>reviewed</td>\n",
       "      <td>KNTC1_HUMAN</td>\n",
       "      <td>Kinetochore-associated protein 1 (Rough deal h...</td>\n",
       "      <td>KNTC1 KIAA0166</td>\n",
       "      <td>Homo sapiens (Human)</td>\n",
       "      <td>2209</td>\n",
       "    </tr>\n",
       "    <tr>\n",
       "      <th>18651</th>\n",
       "      <td>A0A1B0GVH4</td>\n",
       "      <td>reviewed</td>\n",
       "      <td>PRS51_HUMAN</td>\n",
       "      <td>Serine protease-like protein 51</td>\n",
       "      <td>PRSS51</td>\n",
       "      <td>Homo sapiens (Human)</td>\n",
       "      <td>220</td>\n",
       "    </tr>\n",
       "    <tr>\n",
       "      <th>2067</th>\n",
       "      <td>P04839</td>\n",
       "      <td>reviewed</td>\n",
       "      <td>CY24B_HUMAN</td>\n",
       "      <td>Cytochrome b-245 heavy chain (EC 1.-.-.-) (CGD...</td>\n",
       "      <td>CYBB NOX2</td>\n",
       "      <td>Homo sapiens (Human)</td>\n",
       "      <td>570</td>\n",
       "    </tr>\n",
       "    <tr>\n",
       "      <th>8358</th>\n",
       "      <td>Q86WX3</td>\n",
       "      <td>reviewed</td>\n",
       "      <td>AROS_HUMAN</td>\n",
       "      <td>Active regulator of SIRT1 (40S ribosomal prote...</td>\n",
       "      <td>RPS19BP1 AROS</td>\n",
       "      <td>Homo sapiens (Human)</td>\n",
       "      <td>136</td>\n",
       "    </tr>\n",
       "    <tr>\n",
       "      <th>3863</th>\n",
       "      <td>P37837</td>\n",
       "      <td>reviewed</td>\n",
       "      <td>TALDO_HUMAN</td>\n",
       "      <td>Transaldolase (EC 2.2.1.2)</td>\n",
       "      <td>TALDO1 TAL TALDO TALDOR</td>\n",
       "      <td>Homo sapiens (Human)</td>\n",
       "      <td>337</td>\n",
       "    </tr>\n",
       "  </tbody>\n",
       "</table>\n",
       "</div>"
      ],
      "text/plain": [
       "            Entry  Reviewed   Entry Name  \\\n",
       "4402       P50748  reviewed  KNTC1_HUMAN   \n",
       "18651  A0A1B0GVH4  reviewed  PRS51_HUMAN   \n",
       "2067       P04839  reviewed  CY24B_HUMAN   \n",
       "8358       Q86WX3  reviewed   AROS_HUMAN   \n",
       "3863       P37837  reviewed  TALDO_HUMAN   \n",
       "\n",
       "                                           Protein names  \\\n",
       "4402   Kinetochore-associated protein 1 (Rough deal h...   \n",
       "18651                    Serine protease-like protein 51   \n",
       "2067   Cytochrome b-245 heavy chain (EC 1.-.-.-) (CGD...   \n",
       "8358   Active regulator of SIRT1 (40S ribosomal prote...   \n",
       "3863                          Transaldolase (EC 2.2.1.2)   \n",
       "\n",
       "                    Gene Names              Organism  Length  \n",
       "4402            KNTC1 KIAA0166  Homo sapiens (Human)    2209  \n",
       "18651                   PRSS51  Homo sapiens (Human)     220  \n",
       "2067                 CYBB NOX2  Homo sapiens (Human)     570  \n",
       "8358             RPS19BP1 AROS  Homo sapiens (Human)     136  \n",
       "3863   TALDO1 TAL TALDO TALDOR  Homo sapiens (Human)     337  "
      ]
     },
     "execution_count": 50,
     "metadata": {},
     "output_type": "execute_result"
    }
   ],
   "source": [
    "all_proteins.iloc[array_index].head()"
   ]
  },
  {
   "cell_type": "code",
   "execution_count": 52,
   "id": "e7c9a023",
   "metadata": {},
   "outputs": [],
   "source": [
    "#take just the uniprot ids\n",
    "array_ids = all_proteins.iloc[array_index]['Entry']"
   ]
  },
  {
   "cell_type": "code",
   "execution_count": 56,
   "id": "1695ee6a",
   "metadata": {},
   "outputs": [],
   "source": [
    "array_ids.reset_index().to_excel('control_dataset.xlsx')"
   ]
  },
  {
   "cell_type": "code",
   "execution_count": null,
   "id": "2c7087b3",
   "metadata": {},
   "outputs": [],
   "source": []
  }
 ],
 "metadata": {
  "kernelspec": {
   "display_name": "Python 3.9.10 64-bit",
   "language": "python",
   "name": "python3910jvsc74a57bd0b0fa6594d8f4cbf19f97940f81e996739fb7646882a419484c72d19e05852a7e"
  },
  "language_info": {
   "codemirror_mode": {
    "name": "ipython",
    "version": 3
   },
   "file_extension": ".py",
   "mimetype": "text/x-python",
   "name": "python",
   "nbconvert_exporter": "python",
   "pygments_lexer": "ipython3",
   "version": "3.9.10"
  }
 },
 "nbformat": 4,
 "nbformat_minor": 5
}
