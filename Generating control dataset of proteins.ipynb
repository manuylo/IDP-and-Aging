{
 "cells": [
  {
   "cell_type": "code",
   "execution_count": 68,
   "id": "a88445ea",
   "metadata": {},
   "outputs": [],
   "source": [
    "import pandas as pd\n",
    "import numpy as np\n",
    "import random\n",
    "from random import seed\n",
    "from random import randint"
   ]
  },
  {
   "cell_type": "code",
   "execution_count": 45,
   "id": "92e29161",
   "metadata": {},
   "outputs": [],
   "source": [
    "# read a table with all reviewed human proteins from uniprot\n",
    "all_proteins = pd.read_excel('uniprot_human_reviewed.xlsx')\n",
    "ml = pd.read_excel(\"/Users/vladimirmanujlov/Downloads/ML absolut_ (1).xlsx\")"
   ]
  },
  {
   "cell_type": "code",
   "execution_count": 60,
   "id": "13decad3",
   "metadata": {},
   "outputs": [],
   "source": [
    "# create an array for random indexes\n",
    "array_index = np.array([], dtype=int)\n",
    "# seed random number generator\n",
    "seed(193)\n",
    "# generate 400 integer indexes for this table\n",
    "for i in range(2000):\n",
    "    value = randint(0, len(all_proteins))\n",
    "    array_index = np.append(array_index, value)\n",
    "    "
   ]
  },
  {
   "cell_type": "code",
   "execution_count": 61,
   "id": "7eba19d0",
   "metadata": {},
   "outputs": [
    {
     "data": {
      "text/html": [
       "<div>\n",
       "<style scoped>\n",
       "    .dataframe tbody tr th:only-of-type {\n",
       "        vertical-align: middle;\n",
       "    }\n",
       "\n",
       "    .dataframe tbody tr th {\n",
       "        vertical-align: top;\n",
       "    }\n",
       "\n",
       "    .dataframe thead th {\n",
       "        text-align: right;\n",
       "    }\n",
       "</style>\n",
       "<table border=\"1\" class=\"dataframe\">\n",
       "  <thead>\n",
       "    <tr style=\"text-align: right;\">\n",
       "      <th></th>\n",
       "      <th>Entry</th>\n",
       "      <th>Reviewed</th>\n",
       "      <th>Entry Name</th>\n",
       "      <th>Protein names</th>\n",
       "      <th>Gene Names</th>\n",
       "      <th>Organism</th>\n",
       "      <th>Length</th>\n",
       "    </tr>\n",
       "  </thead>\n",
       "  <tbody>\n",
       "    <tr>\n",
       "      <th>18408</th>\n",
       "      <td>Q9H857</td>\n",
       "      <td>reviewed</td>\n",
       "      <td>NT5D2_HUMAN</td>\n",
       "      <td>5'-nucleotidase domain-containing protein 2 (E...</td>\n",
       "      <td>NT5DC2</td>\n",
       "      <td>Homo sapiens (Human)</td>\n",
       "      <td>520</td>\n",
       "    </tr>\n",
       "    <tr>\n",
       "      <th>15133</th>\n",
       "      <td>Q6NW34</td>\n",
       "      <td>reviewed</td>\n",
       "      <td>NEPRO_HUMAN</td>\n",
       "      <td>Nucleolus and neural progenitor protein</td>\n",
       "      <td>NEPRO C3orf17</td>\n",
       "      <td>Homo sapiens (Human)</td>\n",
       "      <td>567</td>\n",
       "    </tr>\n",
       "    <tr>\n",
       "      <th>5674</th>\n",
       "      <td>Q12805</td>\n",
       "      <td>reviewed</td>\n",
       "      <td>FBLN3_HUMAN</td>\n",
       "      <td>EGF-containing fibulin-like extracellular matr...</td>\n",
       "      <td>EFEMP1 FBLN3 FBNL</td>\n",
       "      <td>Homo sapiens (Human)</td>\n",
       "      <td>493</td>\n",
       "    </tr>\n",
       "    <tr>\n",
       "      <th>9730</th>\n",
       "      <td>Q8WXS5</td>\n",
       "      <td>reviewed</td>\n",
       "      <td>CCG8_HUMAN</td>\n",
       "      <td>Voltage-dependent calcium channel gamma-8 subu...</td>\n",
       "      <td>CACNG8 CACNG6</td>\n",
       "      <td>Homo sapiens (Human)</td>\n",
       "      <td>425</td>\n",
       "    </tr>\n",
       "    <tr>\n",
       "      <th>18290</th>\n",
       "      <td>Q9BRR8</td>\n",
       "      <td>reviewed</td>\n",
       "      <td>GPTC1_HUMAN</td>\n",
       "      <td>G patch domain-containing protein 1 (Evolution...</td>\n",
       "      <td>GPATCH1 ECGP GPATC1</td>\n",
       "      <td>Homo sapiens (Human)</td>\n",
       "      <td>931</td>\n",
       "    </tr>\n",
       "  </tbody>\n",
       "</table>\n",
       "</div>"
      ],
      "text/plain": [
       "        Entry  Reviewed   Entry Name  \\\n",
       "18408  Q9H857  reviewed  NT5D2_HUMAN   \n",
       "15133  Q6NW34  reviewed  NEPRO_HUMAN   \n",
       "5674   Q12805  reviewed  FBLN3_HUMAN   \n",
       "9730   Q8WXS5  reviewed   CCG8_HUMAN   \n",
       "18290  Q9BRR8  reviewed  GPTC1_HUMAN   \n",
       "\n",
       "                                           Protein names           Gene Names  \\\n",
       "18408  5'-nucleotidase domain-containing protein 2 (E...               NT5DC2   \n",
       "15133            Nucleolus and neural progenitor protein        NEPRO C3orf17   \n",
       "5674   EGF-containing fibulin-like extracellular matr...    EFEMP1 FBLN3 FBNL   \n",
       "9730   Voltage-dependent calcium channel gamma-8 subu...        CACNG8 CACNG6   \n",
       "18290  G patch domain-containing protein 1 (Evolution...  GPATCH1 ECGP GPATC1   \n",
       "\n",
       "                   Organism  Length  \n",
       "18408  Homo sapiens (Human)     520  \n",
       "15133  Homo sapiens (Human)     567  \n",
       "5674   Homo sapiens (Human)     493  \n",
       "9730   Homo sapiens (Human)     425  \n",
       "18290  Homo sapiens (Human)     931  "
      ]
     },
     "execution_count": 61,
     "metadata": {},
     "output_type": "execute_result"
    }
   ],
   "source": [
    "all_proteins.iloc[array_index].head()"
   ]
  },
  {
   "cell_type": "code",
   "execution_count": 62,
   "id": "8e56e8e3",
   "metadata": {},
   "outputs": [],
   "source": [
    "#take just the uniprot ids\n",
    "array_ids = all_proteins.iloc[array_index]['Entry']"
   ]
  },
  {
   "cell_type": "code",
   "execution_count": 65,
   "id": "bab63b03",
   "metadata": {},
   "outputs": [],
   "source": [
    "set1 = set(array_ids).difference(set(ml['UniProt ID']))"
   ]
  },
  {
   "cell_type": "code",
   "execution_count": 66,
   "id": "3dadd8be",
   "metadata": {},
   "outputs": [
    {
     "data": {
      "text/plain": [
       "1754"
      ]
     },
     "execution_count": 66,
     "metadata": {},
     "output_type": "execute_result"
    }
   ],
   "source": [
    "len(set1)"
   ]
  },
  {
   "cell_type": "code",
   "execution_count": 70,
   "id": "0844547b",
   "metadata": {},
   "outputs": [
    {
     "name": "stderr",
     "output_type": "stream",
     "text": [
      "/var/folders/wf/rxy3k0rj26j21wb0ddpvcvq40000gn/T/ipykernel_11016/155942980.py:1: DeprecationWarning: Sampling from a set deprecated\n",
      "since Python 3.9 and will be removed in a subsequent version.\n",
      "  set2 = random.sample(set1, 1625)\n"
     ]
    }
   ],
   "source": [
    "#choose a sample of needed sixe from generated nonn-intersecting set\n",
    "set2 = random.sample(set1, 1625)"
   ]
  },
  {
   "cell_type": "code",
   "execution_count": 81,
   "id": "4a5f1d7c",
   "metadata": {},
   "outputs": [
    {
     "data": {
      "text/plain": [
       "True"
      ]
     },
     "execution_count": 81,
     "metadata": {},
     "output_type": "execute_result"
    }
   ],
   "source": [
    "len(set2)==1625 and set(set2).intersection(set(ml['UniProt ID']))==set()\n",
    "#check that it is what we wanted"
   ]
  },
  {
   "cell_type": "code",
   "execution_count": 78,
   "id": "ab1f0f0d",
   "metadata": {},
   "outputs": [],
   "source": [
    "pd.Series(set2).reset_index().to_excel('control_dataset.xlsx')"
   ]
  }
 ],
 "metadata": {
  "kernelspec": {
   "display_name": "Quantum",
   "language": "python",
   "name": "python3"
  },
  "language_info": {
   "codemirror_mode": {
    "name": "ipython",
    "version": 3
   },
   "file_extension": ".py",
   "mimetype": "text/x-python",
   "name": "python",
   "nbconvert_exporter": "python",
   "pygments_lexer": "ipython3",
   "version": "3.9.10"
  }
 },
 "nbformat": 4,
 "nbformat_minor": 5
}
